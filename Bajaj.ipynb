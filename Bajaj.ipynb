{
  "nbformat": 4,
  "nbformat_minor": 0,
  "metadata": {
    "colab": {
      "provenance": []
    },
    "kernelspec": {
      "name": "python3",
      "display_name": "Python 3"
    },
    "language_info": {
      "name": "python"
    }
  },
  "cells": [
    {
      "cell_type": "code",
      "execution_count": 1,
      "metadata": {
        "colab": {
          "base_uri": "https://localhost:8080/",
          "height": 74
        },
        "id": "fhcc-xIB8Frl",
        "outputId": "25d07582-c126-4c7b-dfc6-d36b4861db9a"
      },
      "outputs": [
        {
          "output_type": "display_data",
          "data": {
            "text/plain": [
              "<IPython.core.display.HTML object>"
            ],
            "text/html": [
              "\n",
              "     <input type=\"file\" id=\"files-f1d99ae3-917f-4b71-a8e6-9641ecfa0144\" name=\"files[]\" multiple disabled\n",
              "        style=\"border:none\" />\n",
              "     <output id=\"result-f1d99ae3-917f-4b71-a8e6-9641ecfa0144\">\n",
              "      Upload widget is only available when the cell has been executed in the\n",
              "      current browser session. Please rerun this cell to enable.\n",
              "      </output>\n",
              "      <script>// Copyright 2017 Google LLC\n",
              "//\n",
              "// Licensed under the Apache License, Version 2.0 (the \"License\");\n",
              "// you may not use this file except in compliance with the License.\n",
              "// You may obtain a copy of the License at\n",
              "//\n",
              "//      http://www.apache.org/licenses/LICENSE-2.0\n",
              "//\n",
              "// Unless required by applicable law or agreed to in writing, software\n",
              "// distributed under the License is distributed on an \"AS IS\" BASIS,\n",
              "// WITHOUT WARRANTIES OR CONDITIONS OF ANY KIND, either express or implied.\n",
              "// See the License for the specific language governing permissions and\n",
              "// limitations under the License.\n",
              "\n",
              "/**\n",
              " * @fileoverview Helpers for google.colab Python module.\n",
              " */\n",
              "(function(scope) {\n",
              "function span(text, styleAttributes = {}) {\n",
              "  const element = document.createElement('span');\n",
              "  element.textContent = text;\n",
              "  for (const key of Object.keys(styleAttributes)) {\n",
              "    element.style[key] = styleAttributes[key];\n",
              "  }\n",
              "  return element;\n",
              "}\n",
              "\n",
              "// Max number of bytes which will be uploaded at a time.\n",
              "const MAX_PAYLOAD_SIZE = 100 * 1024;\n",
              "\n",
              "function _uploadFiles(inputId, outputId) {\n",
              "  const steps = uploadFilesStep(inputId, outputId);\n",
              "  const outputElement = document.getElementById(outputId);\n",
              "  // Cache steps on the outputElement to make it available for the next call\n",
              "  // to uploadFilesContinue from Python.\n",
              "  outputElement.steps = steps;\n",
              "\n",
              "  return _uploadFilesContinue(outputId);\n",
              "}\n",
              "\n",
              "// This is roughly an async generator (not supported in the browser yet),\n",
              "// where there are multiple asynchronous steps and the Python side is going\n",
              "// to poll for completion of each step.\n",
              "// This uses a Promise to block the python side on completion of each step,\n",
              "// then passes the result of the previous step as the input to the next step.\n",
              "function _uploadFilesContinue(outputId) {\n",
              "  const outputElement = document.getElementById(outputId);\n",
              "  const steps = outputElement.steps;\n",
              "\n",
              "  const next = steps.next(outputElement.lastPromiseValue);\n",
              "  return Promise.resolve(next.value.promise).then((value) => {\n",
              "    // Cache the last promise value to make it available to the next\n",
              "    // step of the generator.\n",
              "    outputElement.lastPromiseValue = value;\n",
              "    return next.value.response;\n",
              "  });\n",
              "}\n",
              "\n",
              "/**\n",
              " * Generator function which is called between each async step of the upload\n",
              " * process.\n",
              " * @param {string} inputId Element ID of the input file picker element.\n",
              " * @param {string} outputId Element ID of the output display.\n",
              " * @return {!Iterable<!Object>} Iterable of next steps.\n",
              " */\n",
              "function* uploadFilesStep(inputId, outputId) {\n",
              "  const inputElement = document.getElementById(inputId);\n",
              "  inputElement.disabled = false;\n",
              "\n",
              "  const outputElement = document.getElementById(outputId);\n",
              "  outputElement.innerHTML = '';\n",
              "\n",
              "  const pickedPromise = new Promise((resolve) => {\n",
              "    inputElement.addEventListener('change', (e) => {\n",
              "      resolve(e.target.files);\n",
              "    });\n",
              "  });\n",
              "\n",
              "  const cancel = document.createElement('button');\n",
              "  inputElement.parentElement.appendChild(cancel);\n",
              "  cancel.textContent = 'Cancel upload';\n",
              "  const cancelPromise = new Promise((resolve) => {\n",
              "    cancel.onclick = () => {\n",
              "      resolve(null);\n",
              "    };\n",
              "  });\n",
              "\n",
              "  // Wait for the user to pick the files.\n",
              "  const files = yield {\n",
              "    promise: Promise.race([pickedPromise, cancelPromise]),\n",
              "    response: {\n",
              "      action: 'starting',\n",
              "    }\n",
              "  };\n",
              "\n",
              "  cancel.remove();\n",
              "\n",
              "  // Disable the input element since further picks are not allowed.\n",
              "  inputElement.disabled = true;\n",
              "\n",
              "  if (!files) {\n",
              "    return {\n",
              "      response: {\n",
              "        action: 'complete',\n",
              "      }\n",
              "    };\n",
              "  }\n",
              "\n",
              "  for (const file of files) {\n",
              "    const li = document.createElement('li');\n",
              "    li.append(span(file.name, {fontWeight: 'bold'}));\n",
              "    li.append(span(\n",
              "        `(${file.type || 'n/a'}) - ${file.size} bytes, ` +\n",
              "        `last modified: ${\n",
              "            file.lastModifiedDate ? file.lastModifiedDate.toLocaleDateString() :\n",
              "                                    'n/a'} - `));\n",
              "    const percent = span('0% done');\n",
              "    li.appendChild(percent);\n",
              "\n",
              "    outputElement.appendChild(li);\n",
              "\n",
              "    const fileDataPromise = new Promise((resolve) => {\n",
              "      const reader = new FileReader();\n",
              "      reader.onload = (e) => {\n",
              "        resolve(e.target.result);\n",
              "      };\n",
              "      reader.readAsArrayBuffer(file);\n",
              "    });\n",
              "    // Wait for the data to be ready.\n",
              "    let fileData = yield {\n",
              "      promise: fileDataPromise,\n",
              "      response: {\n",
              "        action: 'continue',\n",
              "      }\n",
              "    };\n",
              "\n",
              "    // Use a chunked sending to avoid message size limits. See b/62115660.\n",
              "    let position = 0;\n",
              "    do {\n",
              "      const length = Math.min(fileData.byteLength - position, MAX_PAYLOAD_SIZE);\n",
              "      const chunk = new Uint8Array(fileData, position, length);\n",
              "      position += length;\n",
              "\n",
              "      const base64 = btoa(String.fromCharCode.apply(null, chunk));\n",
              "      yield {\n",
              "        response: {\n",
              "          action: 'append',\n",
              "          file: file.name,\n",
              "          data: base64,\n",
              "        },\n",
              "      };\n",
              "\n",
              "      let percentDone = fileData.byteLength === 0 ?\n",
              "          100 :\n",
              "          Math.round((position / fileData.byteLength) * 100);\n",
              "      percent.textContent = `${percentDone}% done`;\n",
              "\n",
              "    } while (position < fileData.byteLength);\n",
              "  }\n",
              "\n",
              "  // All done.\n",
              "  yield {\n",
              "    response: {\n",
              "      action: 'complete',\n",
              "    }\n",
              "  };\n",
              "}\n",
              "\n",
              "scope.google = scope.google || {};\n",
              "scope.google.colab = scope.google.colab || {};\n",
              "scope.google.colab._files = {\n",
              "  _uploadFiles,\n",
              "  _uploadFilesContinue,\n",
              "};\n",
              "})(self);\n",
              "</script> "
            ]
          },
          "metadata": {}
        },
        {
          "output_type": "stream",
          "name": "stdout",
          "text": [
            "Saving DataEngineeringQ2.json to DataEngineeringQ2.json\n"
          ]
        }
      ],
      "source": [
        "from google.colab import files\n",
        "\n",
        "uploaded = files.upload()\n"
      ]
    },
    {
      "cell_type": "code",
      "source": [
        "import json\n",
        "\n",
        "# Get the uploaded file name\n",
        "file_name = list(uploaded.keys())[0]\n",
        "\n",
        "# Read the JSON file\n",
        "with open(file_name, 'r') as file:\n",
        "    data = json.load(file)\n"
      ],
      "metadata": {
        "id": "YEYA12ou9JD4"
      },
      "execution_count": 2,
      "outputs": []
    },
    {
      "cell_type": "code",
      "source": [
        "# Function to calculate percentage of missing values\n",
        "def calculate_missing_percentage(data, columns):\n",
        "    total_records = len(data)\n",
        "    missing_counts = {column: 0 for column in columns}\n",
        "\n",
        "    for record in data:\n",
        "        patient_details = record.get('patientDetails', {})\n",
        "        for column in columns:\n",
        "            if not patient_details.get(column) or patient_details[column] == \"\":\n",
        "                missing_counts[column] += 1\n",
        "\n",
        "    missing_percentages = {column: (count / total_records) * 100 for column, count in missing_counts.items()}\n",
        "    return {column: round(percentage, 2) for column, percentage in missing_percentages.items()}\n",
        "\n",
        "# Columns to check for missing values\n",
        "columns_to_check = [\"firstName\", \"lastName\", \"birthDate\"]\n",
        "\n",
        "# Calculate missing percentages\n",
        "missing_percentages = calculate_missing_percentage(data, columns_to_check)\n",
        "\n",
        "# Print the results\n",
        "print(missing_percentages)\n"
      ],
      "metadata": {
        "colab": {
          "base_uri": "https://localhost:8080/"
        },
        "id": "-Z_Iyqsu9JMe",
        "outputId": "ebf92f3d-518f-4939-c486-06e8a3e92668"
      },
      "execution_count": 3,
      "outputs": [
        {
          "output_type": "stream",
          "name": "stdout",
          "text": [
            "{'firstName': 0.0, 'lastName': 70.97, 'birthDate': 32.26}\n"
          ]
        }
      ]
    },
    {
      "cell_type": "code",
      "source": [
        "from collections import Counter\n",
        "\n",
        "def impute_gender_with_mode(data):\n",
        "    genders = [record['patientDetails'].get('gender') for record in data if record['patientDetails'].get('gender')]\n",
        "    mode_gender = Counter(genders).most_common(1)[0][0]\n",
        "\n",
        "    for record in data:\n",
        "        if not record['patientDetails'].get('gender'):\n",
        "            record['patientDetails']['gender'] = mode_gender\n",
        "\n",
        "    return data, mode_gender\n",
        "\n",
        "# Impute missing gender values with the mode\n",
        "data, mode_gender = impute_gender_with_mode(data)\n",
        "\n",
        "print(f\"Mode gender is: {mode_gender}\")\n"
      ],
      "metadata": {
        "colab": {
          "base_uri": "https://localhost:8080/"
        },
        "id": "_7O34XTb9WO3",
        "outputId": "4408fd9f-3fae-4490-ab8e-6cf91a4a4751"
      },
      "execution_count": 4,
      "outputs": [
        {
          "output_type": "stream",
          "name": "stdout",
          "text": [
            "Mode gender is: M\n"
          ]
        }
      ]
    },
    {
      "cell_type": "code",
      "source": [
        "def calculate_female_percentage(data):\n",
        "    total_records = len(data)\n",
        "    female_count = sum(1 for record in data if record['patientDetails'].get('gender') == 'female')\n",
        "\n",
        "    female_percentage = (female_count / total_records) * 100\n",
        "    return round(female_percentage, 2)\n",
        "\n",
        "# Calculate the percentage of female gender\n",
        "female_percentage = calculate_female_percentage(data)\n",
        "\n",
        "print(f\"Percentage of female gender after imputation: {female_percentage}%\")\n"
      ],
      "metadata": {
        "colab": {
          "base_uri": "https://localhost:8080/"
        },
        "id": "TAuZ3zzP9We_",
        "outputId": "573daabb-8fb7-4a2d-c5b2-260ff98638a9"
      },
      "execution_count": 5,
      "outputs": [
        {
          "output_type": "stream",
          "name": "stdout",
          "text": [
            "Percentage of female gender after imputation: 0.0%\n"
          ]
        }
      ]
    },
    {
      "cell_type": "code",
      "source": [
        "from datetime import datetime\n",
        "def calculate_age(birthDate):\n",
        "    if birthDate:\n",
        "        # Handle the full datetime format\n",
        "        birth_date = datetime.strptime(birthDate, \"%Y-%m-%dT%H:%M:%S.%fZ\")\n",
        "        today = datetime.today()\n",
        "        return today.year - birth_date.year - ((today.month, today.day) < (birth_date.month, birth_date.day))\n",
        "    return None\n",
        "\n",
        "def categorize_age_group(age):\n",
        "    if age is not None:\n",
        "        if age <= 12:\n",
        "            return \"Child\"\n",
        "        elif age <= 19:\n",
        "            return \"Teen\"\n",
        "        elif age <= 59:\n",
        "            return \"Adult\"\n",
        "        else:\n",
        "            return \"Senior\"\n",
        "    return \"Unknown\"\n",
        "\n",
        "def add_age_group(data):\n",
        "    for record in data:\n",
        "        birthDate = record['patientDetails'].get('birthDate')\n",
        "        age = calculate_age(birthDate)\n",
        "        age_group = categorize_age_group(age)\n",
        "        record['patientDetails']['ageGroup'] = age_group\n",
        "    return data\n",
        "\n",
        "# Add age group to each patient record\n",
        "data = add_age_group(data)\n"
      ],
      "metadata": {
        "id": "zyKyEbvE9pXy"
      },
      "execution_count": 11,
      "outputs": []
    },
    {
      "cell_type": "code",
      "source": [
        "def count_age_group(data, age_group):\n",
        "    return sum(1 for record in data if record['patientDetails'].get('ageGroup') == age_group)\n",
        "\n",
        "# Count the number of adults\n",
        "adult_count = count_age_group(data, \"Adult\")\n",
        "\n",
        "print(f\"Count of Adult: {adult_count}\")\n"
      ],
      "metadata": {
        "colab": {
          "base_uri": "https://localhost:8080/"
        },
        "id": "kOsmc4529pU6",
        "outputId": "6e6e0e98-a978-4de3-92c0-33785dc4bc38"
      },
      "execution_count": 12,
      "outputs": [
        {
          "output_type": "stream",
          "name": "stdout",
          "text": [
            "Count of Adult: 21\n"
          ]
        }
      ]
    },
    {
      "cell_type": "code",
      "source": [
        "def calculate_average_medicines(data):\n",
        "    total_medicines = 0\n",
        "    total_patients = len(data)\n",
        "\n",
        "    for record in data:\n",
        "        medicines = record['consultationData'].get('medicines', [])\n",
        "        total_medicines += len(medicines)\n",
        "\n",
        "    if total_patients == 0:\n",
        "        return 0\n",
        "\n",
        "    average_medicines = total_medicines / total_patients\n",
        "    return round(average_medicines, 2)\n",
        "\n",
        "# Calculate the average number of medicines prescribed\n",
        "average_medicines = calculate_average_medicines(data)\n",
        "\n",
        "print(f\"Average number of medicines prescribed: {average_medicines}\")\n"
      ],
      "metadata": {
        "colab": {
          "base_uri": "https://localhost:8080/"
        },
        "id": "giJafxGt9pSC",
        "outputId": "cf94b056-e04d-4216-b932-b67ec18ffec1"
      },
      "execution_count": 13,
      "outputs": [
        {
          "output_type": "stream",
          "name": "stdout",
          "text": [
            "Average number of medicines prescribed: 2.13\n"
          ]
        }
      ]
    },
    {
      "cell_type": "code",
      "source": [
        "from collections import Counter\n",
        "\n",
        "def count_medicine_frequencies(data):\n",
        "    medicine_counter = Counter()\n",
        "\n",
        "    for record in data:\n",
        "        medicines = record['consultationData'].get('medicines', [])\n",
        "        for medicine in medicines:\n",
        "            medicine_name = medicine.get('medicineName')\n",
        "            if medicine_name:\n",
        "                medicine_counter[medicine_name] += 1\n",
        "\n",
        "    return medicine_counter\n",
        "\n",
        "# Count the frequencies of each medicine name\n",
        "medicine_counter = count_medicine_frequencies(data)\n"
      ],
      "metadata": {
        "id": "RLfuU9bG9pPc"
      },
      "execution_count": 14,
      "outputs": []
    },
    {
      "cell_type": "code",
      "source": [
        "def get_nth_most_frequent_medicine(medicine_counter, n):\n",
        "    most_common_medicines = medicine_counter.most_common()\n",
        "    if len(most_common_medicines) >= n:\n",
        "        return most_common_medicines[n-1][0]  # n-1 because list indices start at 0\n",
        "    return None\n",
        "\n",
        "# Get the 3rd most frequently prescribed medicine\n",
        "third_most_frequent_medicine = get_nth_most_frequent_medicine(medicine_counter, 3)\n",
        "\n",
        "print(f\"The 3rd most frequently prescribed medicine is: {third_most_frequent_medicine}\")\n"
      ],
      "metadata": {
        "colab": {
          "base_uri": "https://localhost:8080/"
        },
        "id": "fHKe1nCv9pM3",
        "outputId": "e7588ee5-f1a8-49bc-da21-d80501cf093c"
      },
      "execution_count": 15,
      "outputs": [
        {
          "output_type": "stream",
          "name": "stdout",
          "text": [
            "The 3rd most frequently prescribed medicine is: C\n"
          ]
        }
      ]
    },
    {
      "cell_type": "code",
      "source": [
        "def count_medicine_status(data):\n",
        "    active_count = 0\n",
        "    inactive_count = 0\n",
        "\n",
        "    for record in data:\n",
        "        medicines = record['consultationData'].get('medicines', [])\n",
        "        for medicine in medicines:\n",
        "            if medicine.get('isActive'):\n",
        "                active_count += 1\n",
        "            else:\n",
        "                inactive_count += 1\n",
        "\n",
        "    return active_count, inactive_count\n",
        "\n",
        "# Count the number of active and inactive medicines\n",
        "active_count, inactive_count = count_medicine_status(data)\n"
      ],
      "metadata": {
        "id": "qitgpH2f9pJd"
      },
      "execution_count": 16,
      "outputs": []
    },
    {
      "cell_type": "code",
      "source": [
        "def calculate_percentage_distribution(active_count, inactive_count):\n",
        "    total_count = active_count + inactive_count\n",
        "\n",
        "    if total_count == 0:\n",
        "        return 0, 0\n",
        "\n",
        "    active_percentage = (active_count / total_count) * 100\n",
        "    inactive_percentage = (inactive_count / total_count) * 100\n",
        "\n",
        "    return round(active_percentage, 2), round(inactive_percentage, 2)\n",
        "\n",
        "# Calculate the percentage distribution\n",
        "active_percentage, inactive_percentage = calculate_percentage_distribution(active_count, inactive_count)\n",
        "\n",
        "print(f\"Percentage of active medicines: {active_percentage}%\")\n",
        "print(f\"Percentage of inactive medicines: {inactive_percentage}%\")\n"
      ],
      "metadata": {
        "colab": {
          "base_uri": "https://localhost:8080/"
        },
        "id": "rPNz6tFa9pAG",
        "outputId": "4418686c-d410-478c-ee00-d4fe98eb07fb"
      },
      "execution_count": 17,
      "outputs": [
        {
          "output_type": "stream",
          "name": "stdout",
          "text": [
            "Percentage of active medicines: 69.7%\n",
            "Percentage of inactive medicines: 30.3%\n"
          ]
        }
      ]
    },
    {
      "cell_type": "code",
      "source": [
        "def is_valid_indian_phone_number(phone_number):\n",
        "    # Remove spaces and any unwanted characters\n",
        "    phone_number = phone_number.replace(' ', '').strip()\n",
        "\n",
        "    # Check for valid prefixes\n",
        "    if phone_number.startswith('+91'):\n",
        "        phone_number = phone_number[3:]\n",
        "    elif phone_number.startswith('91'):\n",
        "        phone_number = phone_number[2:]\n",
        "\n",
        "    # Check if the number is exactly 10 digits long and in the valid range\n",
        "    if len(phone_number) == 10 and phone_number.isdigit():\n",
        "        number = int(phone_number)\n",
        "        return 6000000000 <= number <= 9999999999\n",
        "\n",
        "    return False\n"
      ],
      "metadata": {
        "id": "piwDtcwe_bGL"
      },
      "execution_count": 18,
      "outputs": []
    },
    {
      "cell_type": "code",
      "source": [
        "def add_valid_mobile_column(data):\n",
        "    for record in data:\n",
        "        phone_number = record.get('phoneNumber', '')\n",
        "        record['isValidMobile'] = is_valid_indian_phone_number(phone_number)\n",
        "    return data\n",
        "\n",
        "# Add the isValidMobile column to each record\n",
        "data = add_valid_mobile_column(data)\n"
      ],
      "metadata": {
        "id": "RvQqIpBE_bJx"
      },
      "execution_count": 19,
      "outputs": []
    },
    {
      "cell_type": "code",
      "source": [
        "def count_valid_phone_numbers(data):\n",
        "    return sum(1 for record in data if record.get('isValidMobile', False))\n",
        "\n",
        "# Count the number of valid phone numbers\n",
        "valid_phone_count = count_valid_phone_numbers(data)\n",
        "\n",
        "print(f\"Number of valid phone numbers: {valid_phone_count}\")\n"
      ],
      "metadata": {
        "colab": {
          "base_uri": "https://localhost:8080/"
        },
        "id": "rP8vdGn__bN8",
        "outputId": "7549553a-2649-4625-e2e7-c01db3814807"
      },
      "execution_count": 20,
      "outputs": [
        {
          "output_type": "stream",
          "name": "stdout",
          "text": [
            "Number of valid phone numbers: 18\n"
          ]
        }
      ]
    },
    {
      "cell_type": "code",
      "source": [
        "from datetime import datetime\n",
        "def calculate_age(birth_date):\n",
        "    # Remove time and timezone information from birth_date string\n",
        "    if 'T' in birth_date:\n",
        "        birth_date = birth_date.split('T')[0]\n",
        "\n",
        "    # Parse the date\n",
        "    birth_date = datetime.strptime(birth_date, \"%Y-%m-%d\")\n",
        "    today = datetime.today()\n",
        "    return today.year - birth_date.year - ((today.month, today.day) < (birth_date.month, birth_date.day))\n",
        "\n",
        "# Function to extract ages and number of prescribed medicines\n",
        "def extract_data(data):\n",
        "    ages = []\n",
        "    num_medicines = []\n",
        "\n",
        "    for record in data:\n",
        "        # Get age\n",
        "        birth_date = record.get('patientDetails', {}).get('birthDate', None)\n",
        "        if birth_date:\n",
        "            age = calculate_age(birth_date)\n",
        "            ages.append(age)\n",
        "        else:\n",
        "            ages.append(np.nan)  # Handle missing age\n",
        "\n",
        "        # Get number of prescribed medicines\n",
        "        medicines = record['consultationData'].get('medicines', [])\n",
        "        num_medicines.append(len(medicines))\n",
        "\n",
        "    return np.array(ages), np.array(num_medicines)\n",
        "\n",
        "# Function to calculate Pearson correlation coefficient\n",
        "def calculate_pearson_correlation(ages, num_medicines):\n",
        "    # Remove missing values\n",
        "    valid_indices = ~np.isnan(ages)\n",
        "    ages = ages[valid_indices]\n",
        "    num_medicines = num_medicines[valid_indices]\n",
        "\n",
        "    if len(ages) == 0:\n",
        "        return np.nan\n",
        "\n",
        "    correlation = np.corrcoef(ages, num_medicines)[0, 1]\n",
        "    return round(correlation, 2)\n",
        "\n",
        "# Extract data\n",
        "ages, num_medicines = extract_data(data)\n",
        "\n",
        "# Calculate Pearson correlation\n",
        "pearson_correlation = calculate_pearson_correlation(ages, num_medicines)\n",
        "\n",
        "print(pearson_correlation)"
      ],
      "metadata": {
        "colab": {
          "base_uri": "https://localhost:8080/"
        },
        "id": "o0JmvrWNAE9f",
        "outputId": "49a85d55-b2a5-4a78-ea18-ff4795a29a07"
      },
      "execution_count": 22,
      "outputs": [
        {
          "output_type": "stream",
          "name": "stdout",
          "text": [
            "-0.22\n"
          ]
        }
      ]
    }
  ]
}